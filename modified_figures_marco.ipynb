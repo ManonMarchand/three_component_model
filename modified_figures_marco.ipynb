{
 "cells": [
  {
   "cell_type": "code",
   "execution_count": 1,
   "metadata": {},
   "outputs": [],
   "source": [
    "import sqlite3\n",
    "import pandas as pd \n",
    "import matplotlib.pyplot as plt \n",
    "from plot_function import *\n",
    "from itertools import cycle\n",
    "from pathlib import Path\n",
    "from datetime import date"
   ]
  },
  {
   "cell_type": "code",
   "execution_count": 2,
   "metadata": {},
   "outputs": [],
   "source": [
    "connection = sqlite3.connect('./sample_database.db')\n",
    "c = connection.cursor()"
   ]
  },
  {
   "cell_type": "markdown",
   "metadata": {},
   "source": [
    "# Extract data from database"
   ]
  },
  {
   "cell_type": "code",
   "execution_count": 3,
   "metadata": {},
   "outputs": [],
   "source": [
    "TC_fit = pd.read_sql_query(\"\"\"SELECT * FROM tc_fit_results\"\"\", con=connection)\n",
    "HB_fit = pd.read_sql_query(\"SELECT * FROM hb_fit_results\", con=connection)\n",
    "amp_sweeps = pd.read_sql_query(\"\"\"SELECT * FROM amp_sweep_info\"\"\", con=connection)\n",
    "solvents = pd.read_sql_query(\"SELECT * FROM solvent_infos\", con=connection)\n",
    "dilu = pd.read_sql_query(\"\"\"SELECT sample_prep_info.*, \n",
    "                                   dilution_series.dilution_serie\n",
    "                            FROM sample_prep_info\n",
    "                            LEFT JOIN dilution_series USING (sample_ID)\n",
    "                         \"\"\", con=connection)\n",
    "frq_sweeps = pd.read_sql(\"select * from frq_sweep_info\", con=connection)\n",
    "flow_curves = pd.read_sql(\"select * from flow_curves\", con=connection)"
   ]
  },
  {
   "cell_type": "markdown",
   "metadata": {},
   "source": [
    "# Plot the concentration sweep"
   ]
  },
  {
   "cell_type": "code",
   "execution_count": 4,
   "metadata": {},
   "outputs": [],
   "source": [
    "flow_curves = pd.merge(left=flow_curves, right=dilu, how='left', on=['sample_ID'])\n",
    "flow_curves_concentration_sweep = flow_curves[flow_curves.dilution_serie == 'carbopol~974p~in~propylenglycol']\n",
    "\n",
    "df20 = flow_curves_concentration_sweep[flow_curves_concentration_sweep.temperature == 20]\n",
    "df20 = df20.sort_values('w_percent', ascending=False)"
   ]
  },
  {
   "cell_type": "code",
   "execution_count": 5,
   "metadata": {},
   "outputs": [
    {
     "data": {
      "text/html": [
       "<div>\n",
       "<style scoped>\n",
       "    .dataframe tbody tr th:only-of-type {\n",
       "        vertical-align: middle;\n",
       "    }\n",
       "\n",
       "    .dataframe tbody tr th {\n",
       "        vertical-align: top;\n",
       "    }\n",
       "\n",
       "    .dataframe thead th {\n",
       "        text-align: right;\n",
       "    }\n",
       "</style>\n",
       "<table border=\"1\" class=\"dataframe\">\n",
       "  <thead>\n",
       "    <tr style=\"text-align: right;\">\n",
       "      <th>name</th>\n",
       "      <th>TC_eta_bg</th>\n",
       "      <th>TC_gammadot_crit</th>\n",
       "      <th>TC_ystress</th>\n",
       "      <th>AIC</th>\n",
       "    </tr>\n",
       "    <tr>\n",
       "      <th>key</th>\n",
       "      <th></th>\n",
       "      <th></th>\n",
       "      <th></th>\n",
       "      <th></th>\n",
       "    </tr>\n",
       "  </thead>\n",
       "  <tbody>\n",
       "    <tr>\n",
       "      <th>1.3</th>\n",
       "      <td>0.307</td>\n",
       "      <td>0.000</td>\n",
       "      <td>0.001</td>\n",
       "      <td>460.270</td>\n",
       "    </tr>\n",
       "    <tr>\n",
       "      <th>1.5</th>\n",
       "      <td>0.397</td>\n",
       "      <td>0.000</td>\n",
       "      <td>0.002</td>\n",
       "      <td>539.734</td>\n",
       "    </tr>\n",
       "    <tr>\n",
       "      <th>1.7</th>\n",
       "      <td>0.449</td>\n",
       "      <td>0.000</td>\n",
       "      <td>0.003</td>\n",
       "      <td>187.440</td>\n",
       "    </tr>\n",
       "    <tr>\n",
       "      <th>1.75</th>\n",
       "      <td>0.466</td>\n",
       "      <td>0.000</td>\n",
       "      <td>0.005</td>\n",
       "      <td>-6.878</td>\n",
       "    </tr>\n",
       "    <tr>\n",
       "      <th>1.78</th>\n",
       "      <td>0.450</td>\n",
       "      <td>0.021</td>\n",
       "      <td>2.237</td>\n",
       "      <td>1.069</td>\n",
       "    </tr>\n",
       "    <tr>\n",
       "      <th>1.8</th>\n",
       "      <td>0.485</td>\n",
       "      <td>0.019</td>\n",
       "      <td>2.599</td>\n",
       "      <td>-45.003</td>\n",
       "    </tr>\n",
       "    <tr>\n",
       "      <th>1.85</th>\n",
       "      <td>0.478</td>\n",
       "      <td>0.068</td>\n",
       "      <td>5.071</td>\n",
       "      <td>-74.010</td>\n",
       "    </tr>\n",
       "    <tr>\n",
       "      <th>1.9</th>\n",
       "      <td>0.459</td>\n",
       "      <td>0.025</td>\n",
       "      <td>3.205</td>\n",
       "      <td>374.841</td>\n",
       "    </tr>\n",
       "    <tr>\n",
       "      <th>2.0</th>\n",
       "      <td>0.493</td>\n",
       "      <td>0.151</td>\n",
       "      <td>10.037</td>\n",
       "      <td>218.437</td>\n",
       "    </tr>\n",
       "    <tr>\n",
       "      <th>2.7</th>\n",
       "      <td>0.711</td>\n",
       "      <td>0.408</td>\n",
       "      <td>29.951</td>\n",
       "      <td>169.626</td>\n",
       "    </tr>\n",
       "    <tr>\n",
       "      <th>3.0</th>\n",
       "      <td>0.623</td>\n",
       "      <td>1.089</td>\n",
       "      <td>83.216</td>\n",
       "      <td>129.432</td>\n",
       "    </tr>\n",
       "  </tbody>\n",
       "</table>\n",
       "</div>"
      ],
      "text/plain": [
       "name  TC_eta_bg  TC_gammadot_crit  TC_ystress      AIC\n",
       "key                                                   \n",
       "1.3       0.307             0.000       0.001  460.270\n",
       "1.5       0.397             0.000       0.002  539.734\n",
       "1.7       0.449             0.000       0.003  187.440\n",
       "1.75      0.466             0.000       0.005   -6.878\n",
       "1.78      0.450             0.021       2.237    1.069\n",
       "1.8       0.485             0.019       2.599  -45.003\n",
       "1.85      0.478             0.068       5.071  -74.010\n",
       "1.9       0.459             0.025       3.205  374.841\n",
       "2.0       0.493             0.151      10.037  218.437\n",
       "2.7       0.711             0.408      29.951  169.626\n",
       "3.0       0.623             1.089      83.216  129.432"
      ]
     },
     "execution_count": 5,
     "metadata": {},
     "output_type": "execute_result"
    },
    {
     "data": {
      "image/png": "[encoded data removed]",
      "text/plain": [
       "<Figure size 360x244.8 with 1 Axes>"
      ]
     },
     "metadata": {
      "needs_background": "light"
     },
     "output_type": "display_data"
    }
   ],
   "source": [
    "import rheofit\n",
    "TC_model=rheofit.models.TC_model\n",
    "\n",
    "\n",
    "fig, ax, color, marker = create_plot()\n",
    "x = np.logspace(-5, 3, 30)\n",
    "c_for_TC=[3.0,2.7,2.0,1.9,1.85,1.8, 1.78]\n",
    "\n",
    "import pybroom\n",
    "res_fit_dict={}\n",
    "AIC_list=[]\n",
    "for c, dfh in df20.groupby('w_percent', sort=False):\n",
    "    col=next(color)\n",
    "    ax.loglog(dfh.shear_rate, dfh.shear_stress, c=col, mfc=col, alpha=0.4, marker=next(marker), label=f'${c}$', linestyle='none')\n",
    "    res_fit_dict[c]=TC_model.fit(dfh.shear_stress,x=dfh.shear_rate)\n",
    "    AIC_list.append(res_fit_dict[c].aic)\n",
    "    if c in c_for_TC:\n",
    "        plt.plot(x, res_fit_dict[c].eval(x=x), color=col, marker='', ls='-', lw=1.5)\n",
    "     \n",
    "\n",
    "    \n",
    "res_table=pybroom.tidy(res_fit_dict)\n",
    "TC_fit_table=res_table.pivot(index='key',columns='name',values='value')\n",
    "TC_fit_table['AIC']=AIC_list\n",
    "\n",
    "ax.legend(title='$c~(\\mathrm{wt.}\\%)~:$', bbox_to_anchor=(1, 1.1), ncol=2)._legend_box.align='left'\n",
    "ax.set(xlim=(1e-5, 1e3), ylim=(1e-2, 1e4))\n",
    "ax.set(xlabel='$\\dot{\\gamma}~(\\mathrm{s}^{-1})$', \n",
    "       ylabel='$\\sigma~\\mathrm{(Pa)}$', \n",
    "      xticks=[1e-5, 1e-4, 1e-3, 0.01, 0.1, 1, 10, 100, 1000], \n",
    "      yticks=[0.01, 0.1, 1, 10, 100, 1000, 10000])\n",
    "fig.savefig('./figures_marco/concentration_sweep.svg')\n",
    "fig.savefig('./figures_marco/concentration_sweep.png', dpi=400, bbox_inches = 'tight')\n",
    "TC_fit_table.round(3)\n",
    "\n"
   ]
  },
  {
   "cell_type": "code",
   "execution_count": 6,
   "metadata": {},
   "outputs": [
    {
     "data": {
      "text/html": [
       "<div>\n",
       "<style scoped>\n",
       "    .dataframe tbody tr th:only-of-type {\n",
       "        vertical-align: middle;\n",
       "    }\n",
       "\n",
       "    .dataframe tbody tr th {\n",
       "        vertical-align: top;\n",
       "    }\n",
       "\n",
       "    .dataframe thead th {\n",
       "        text-align: right;\n",
       "    }\n",
       "</style>\n",
       "<table border=\"1\" class=\"dataframe\">\n",
       "  <thead>\n",
       "    <tr style=\"text-align: right;\">\n",
       "      <th>name</th>\n",
       "      <th>HB_K</th>\n",
       "      <th>HB_n</th>\n",
       "      <th>HB_ystress</th>\n",
       "      <th>AIC</th>\n",
       "    </tr>\n",
       "    <tr>\n",
       "      <th>key</th>\n",
       "      <th></th>\n",
       "      <th></th>\n",
       "      <th></th>\n",
       "      <th></th>\n",
       "    </tr>\n",
       "  </thead>\n",
       "  <tbody>\n",
       "    <tr>\n",
       "      <th>1.3</th>\n",
       "      <td>2.088</td>\n",
       "      <td>0.770</td>\n",
       "      <td>0.048</td>\n",
       "      <td>496.820</td>\n",
       "    </tr>\n",
       "    <tr>\n",
       "      <th>1.5</th>\n",
       "      <td>4.229</td>\n",
       "      <td>0.725</td>\n",
       "      <td>0.856</td>\n",
       "      <td>587.324</td>\n",
       "    </tr>\n",
       "    <tr>\n",
       "      <th>1.7</th>\n",
       "      <td>4.742</td>\n",
       "      <td>0.727</td>\n",
       "      <td>1.887</td>\n",
       "      <td>316.831</td>\n",
       "    </tr>\n",
       "    <tr>\n",
       "      <th>1.75</th>\n",
       "      <td>8.935</td>\n",
       "      <td>0.671</td>\n",
       "      <td>2.010</td>\n",
       "      <td>250.423</td>\n",
       "    </tr>\n",
       "    <tr>\n",
       "      <th>1.78</th>\n",
       "      <td>10.734</td>\n",
       "      <td>0.635</td>\n",
       "      <td>4.644</td>\n",
       "      <td>196.189</td>\n",
       "    </tr>\n",
       "    <tr>\n",
       "      <th>1.8</th>\n",
       "      <td>13.429</td>\n",
       "      <td>0.623</td>\n",
       "      <td>5.309</td>\n",
       "      <td>148.454</td>\n",
       "    </tr>\n",
       "    <tr>\n",
       "      <th>1.85</th>\n",
       "      <td>14.301</td>\n",
       "      <td>0.616</td>\n",
       "      <td>7.669</td>\n",
       "      <td>159.230</td>\n",
       "    </tr>\n",
       "    <tr>\n",
       "      <th>1.9</th>\n",
       "      <td>12.754</td>\n",
       "      <td>0.643</td>\n",
       "      <td>7.643</td>\n",
       "      <td>373.871</td>\n",
       "    </tr>\n",
       "    <tr>\n",
       "      <th>2.0</th>\n",
       "      <td>17.429</td>\n",
       "      <td>0.622</td>\n",
       "      <td>15.349</td>\n",
       "      <td>253.925</td>\n",
       "    </tr>\n",
       "    <tr>\n",
       "      <th>2.7</th>\n",
       "      <td>33.849</td>\n",
       "      <td>0.600</td>\n",
       "      <td>37.682</td>\n",
       "      <td>140.411</td>\n",
       "    </tr>\n",
       "    <tr>\n",
       "      <th>3.0</th>\n",
       "      <td>68.527</td>\n",
       "      <td>0.551</td>\n",
       "      <td>88.047</td>\n",
       "      <td>-18.026</td>\n",
       "    </tr>\n",
       "  </tbody>\n",
       "</table>\n",
       "</div>"
      ],
      "text/plain": [
       "name    HB_K   HB_n  HB_ystress      AIC\n",
       "key                                     \n",
       "1.3    2.088  0.770       0.048  496.820\n",
       "1.5    4.229  0.725       0.856  587.324\n",
       "1.7    4.742  0.727       1.887  316.831\n",
       "1.75   8.935  0.671       2.010  250.423\n",
       "1.78  10.734  0.635       4.644  196.189\n",
       "1.8   13.429  0.623       5.309  148.454\n",
       "1.85  14.301  0.616       7.669  159.230\n",
       "1.9   12.754  0.643       7.643  373.871\n",
       "2.0   17.429  0.622      15.349  253.925\n",
       "2.7   33.849  0.600      37.682  140.411\n",
       "3.0   68.527  0.551      88.047  -18.026"
      ]
     },
     "execution_count": 6,
     "metadata": {},
     "output_type": "execute_result"
    }
   ],
   "source": [
    "res_fit_dict_HB={}\n",
    "AIC_list=[]\n",
    "for c, dfh in df20.groupby('w_percent', sort=False):\n",
    "    col=next(color)\n",
    "    ax.loglog(dfh.shear_rate, dfh.shear_stress, c=col, mfc=col, alpha=0.4, marker=next(marker), label=f'${c}$', linestyle='none')\n",
    "    res_fit_dict_HB[c]=rheofit.models.HB_model.fit(dfh.shear_stress,x=dfh.shear_rate)\n",
    "    AIC_list.append(res_fit_dict_HB[c].aic)\n",
    "res_table=pybroom.tidy(res_fit_dict_HB)\n",
    "HB_fit_table=res_table.pivot(index='key',columns='name',values='value')\n",
    "HB_fit_table['AIC']=AIC_list\n",
    "HB_fit_table.round(3)"
   ]
  },
  {
   "cell_type": "markdown",
   "metadata": {},
   "source": [
    "# TC Parameters for concentration sweep"
   ]
  },
  {
   "cell_type": "code",
   "execution_count": 7,
   "metadata": {},
   "outputs": [
    {
     "data": {
      "image/png": "[encoded data removed]",
      "text/plain": [
       "<Figure size 244.8x244.8 with 1 Axes>"
      ]
     },
     "metadata": {
      "needs_background": "light"
     },
     "output_type": "display_data"
    }
   ],
   "source": [
    "fig, ax, color, marker = create_plot(two_sided=True)\n",
    "\n",
    "for conc in c_for_TC:\n",
    "    c = next(color)\n",
    "    ax.plot(conc, TC_fit_table['TC_ystress'][conc], c=c, mfc=c, marker=next(marker), ms=5, label='$\\mathrm{TC}$')\n",
    "    ax.plot(conc, HB_fit_table['HB_ystress'][conc], c=c, mfc='None', marker=next(marker), ms=5, label='$\\mathrm{HB}$')\n",
    "    \n",
    "handles = [mpl.lines.Line2D([], [], c='k', label=r'$\\mathrm{HB}$'),\n",
    "           mpl.lines.Line2D([], [], c='k', mfc='k', label=r'$\\mathrm{TC}$')]\n",
    "\n",
    "ax.plot(np.linspace(1.5,3.5),40*(np.linspace(1.5,3.5)-1.75), linestyle='--', color='black', marker='')\n",
    "\n",
    "ax.legend(handles=handles, loc='lower right')\n",
    "\n",
    "ax.set(xlim=(1.5, 3.5), ylim=(1, 100), \n",
    "       yscale='log',\n",
    "       xlabel='$c~(\\mathrm{wt.}\\%)$',\n",
    "       ylabel='$\\sigma_\\mathrm{ys}~\\mathrm{(Pa)}$'\n",
    "      )\n",
    "\n",
    "fig.savefig('./figures_marco/concentration_sweep_parameters/ys.svg')"
   ]
  },
  {
   "cell_type": "code",
   "execution_count": 8,
   "metadata": {},
   "outputs": [
    {
     "data": {
      "image/png": "[encoded data removed]",
      "text/plain": [
       "<Figure size 244.8x244.8 with 1 Axes>"
      ]
     },
     "metadata": {
      "needs_background": "light"
     },
     "output_type": "display_data"
    }
   ],
   "source": [
    "fig, ax, color, marker = create_plot(two_sided=True)\n",
    "\n",
    "for conc in c_for_TC:\n",
    "    c = next(color)\n",
    "    ax.plot(conc, TC_fit_table['TC_gammadot_crit'][conc], c=c, mfc=c, marker=next(marker), ms=5, label=f'${conc}$')\n",
    "    \n",
    "ax.legend(title='$c~(\\mathrm{wt.}\\%)$', ncol=2, bbox_to_anchor=(1, 1.1))._legend_box.align='left'\n",
    "    \n",
    "ax.plot(np.linspace(1.5,3.5),0.35*(np.linspace(1.5,3.5)-1.75), linestyle='--', color='black', marker='')\n",
    "\n",
    "\n",
    "ax.set(xlim=(1.5, 3.5), ylim=(1e-2, 1), \n",
    "       yscale='log',\n",
    "       xlabel='$c~(\\mathrm{wt.}\\%)$',\n",
    "       ylabel='$\\dot{\\gamma}_\\mathrm{c}~\\mathrm{(s^{-1})}$'\n",
    "      )\n",
    "fig.savefig('./figures_marco/concentration_sweep_parameters/gammadotcrit.svg')"
   ]
  },
  {
   "cell_type": "code",
   "execution_count": 9,
   "metadata": {},
   "outputs": [
    {
     "data": {
      "image/png": "[encoded data removed]",
      "text/plain": [
       "<Figure size 180x180 with 1 Axes>"
      ]
     },
     "metadata": {
      "needs_background": "light"
     },
     "output_type": "display_data"
    }
   ],
   "source": [
    "fig, ax, color, marker = create_plot(figsize=(2.5,2.5))\n",
    "\n",
    "for conc in c_for_TC:\n",
    "    c = next(color)\n",
    "    ax.plot(conc, TC_fit_table.loc[conc, 'TC_ystress']/TC_fit_table.loc[conc, 'TC_gammadot_crit'], c=c, mfc=c, marker=next(marker), ms=5, label=f'${conc}$')\n",
    "    \n",
    "    \n",
    "#ax.plot(np.linspace(1.5,3.5),0.35*(np.linspace(1.5,3.5)-1.75), linestyle='--', color='black', marker='')\n",
    "\n",
    "\n",
    "ax.set(xlim=(1.5, 3.5), ylim=(10, 1000), \n",
    "       yscale='log',\n",
    "       xlabel='$c~(\\mathrm{wt.}\\%)$',\n",
    "       ylabel='$\\sigma_\\mathrm{ys} / \\dot{\\gamma}_\\mathrm{c}~\\mathrm{(Pa \\cdot s)}$'\n",
    "      )\n",
    "fig.savefig('./figures_marco/concentration_sweep_parameters/ys_gammadotcrit.svg')"
   ]
  },
  {
   "cell_type": "code",
   "execution_count": 10,
   "metadata": {},
   "outputs": [
    {
     "data": {
      "image/png": "[encoded data removed]",
      "text/plain": [
       "<Figure size 244.8x244.8 with 1 Axes>"
      ]
     },
     "metadata": {
      "needs_background": "light"
     },
     "output_type": "display_data"
    }
   ],
   "source": [
    "fig, ax, color, marker = create_plot(two_sided=True)\n",
    "\n",
    "for conc in c_for_TC:\n",
    "    c = next(color)\n",
    "    ax.plot(conc, HB_fit_table['HB_K'][conc], c=c, mfc='none', marker=next(marker), ms=5)\n",
    "    \n",
    "\n",
    "\n",
    "ax.set(xlim=(1.5, 3.5), ylim=(1, 100), \n",
    "       yscale='log',\n",
    "       xlabel='$c~(\\mathrm{wt.}\\%)$',\n",
    "       ylabel='$K~\\mathrm{(s^{-n})}$'\n",
    "      )\n",
    "fig.savefig('./figures_marco/concentration_sweep_parameters/k.svg')"
   ]
  },
  {
   "cell_type": "code",
   "execution_count": 11,
   "metadata": {},
   "outputs": [
    {
     "data": {
      "image/png": "[encoded data removed]",
      "text/plain": [
       "<Figure size 244.8x244.8 with 1 Axes>"
      ]
     },
     "metadata": {
      "needs_background": "light"
     },
     "output_type": "display_data"
    }
   ],
   "source": [
    "fig, ax, color, marker = create_plot(two_sided=True)\n",
    "\n",
    "for conc in c_for_TC:\n",
    "    c = next(color)\n",
    "    ax.plot(conc, HB_fit_table['HB_n'][conc], c=c, mfc='none', marker=next(marker), ms=5)\n",
    "    \n",
    "\n",
    "\n",
    "ax.set(xlim=(1.5, 3.5), ylim=(0.3, 0.7), \n",
    "       yscale='linear',\n",
    "       xlabel='$c~(\\mathrm{wt.}\\%)$',\n",
    "       ylabel='$n~(-)$'\n",
    "      )\n",
    "fig.savefig('./figures_marco/concentration_sweep_parameters/n.svg')"
   ]
  },
  {
   "cell_type": "code",
   "execution_count": 12,
   "metadata": {},
   "outputs": [
    {
     "data": {
      "image/png": "[encoded data removed]",
      "text/plain": [
       "<Figure size 244.8x244.8 with 1 Axes>"
      ]
     },
     "metadata": {
      "needs_background": "light"
     },
     "output_type": "display_data"
    }
   ],
   "source": [
    "fig, ax, color, marker = create_plot(two_sided=True)\n",
    "\n",
    "for conc in c_for_TC:\n",
    "    c = next(color)\n",
    "    ax.plot(conc, TC_fit_table['TC_eta_bg'][conc], c=c, mfc=c, marker=next(marker), ms=5)\n",
    "\n",
    "ax.axhline(0.45, linestyle='--', color='black', marker='')\n",
    "\n",
    "ax.set(xlim=(1.5, 3.5), ylim=(0.01, 1), \n",
    "       yscale='log',\n",
    "       xlabel='$c~(\\mathrm{wt.}\\%)$',\n",
    "       ylabel='$\\eta_\\mathrm{bg}~\\mathrm{(Pa \\cdot s)}$'\n",
    "      )\n",
    "\n",
    "fig.savefig('./figures_marco/concentration_sweep_parameters/viscinf.svg')"
   ]
  },
  {
   "cell_type": "markdown",
   "metadata": {},
   "source": [
    "# Effect of temperature "
   ]
  },
  {
   "cell_type": "code",
   "execution_count": 13,
   "metadata": {},
   "outputs": [
    {
     "data": {
      "text/plain": [
       "round_temperature\n",
       "10.0    0.102050\n",
       "11.0    0.098107\n",
       "12.0    0.092068\n",
       "13.0    0.086123\n",
       "14.0    0.080511\n",
       "15.0    0.075337\n",
       "16.0    0.070478\n",
       "17.0    0.066006\n",
       "18.0    0.061838\n",
       "19.0    0.058372\n",
       "20.0    0.054799\n",
       "21.0    0.051491\n",
       "22.0    0.048458\n",
       "23.0    0.045629\n",
       "24.0    0.042894\n",
       "25.0    0.040253\n",
       "26.0    0.037959\n",
       "27.0    0.035865\n",
       "28.0    0.033923\n",
       "29.0    0.032261\n",
       "30.0    0.030566\n",
       "31.0    0.028952\n",
       "32.0    0.027531\n",
       "33.0    0.026069\n",
       "34.0    0.024876\n",
       "35.0    0.023787\n",
       "36.0    0.022553\n",
       "37.0    0.021460\n",
       "38.0    0.020486\n",
       "39.0    0.019429\n",
       "40.0    0.018617\n",
       "41.0    0.017891\n",
       "42.0    0.017030\n",
       "43.0    0.016265\n",
       "44.0    0.015637\n",
       "45.0    0.015026\n",
       "46.0    0.014478\n",
       "47.0    0.013870\n",
       "48.0    0.013247\n",
       "49.0    0.012744\n",
       "50.0    0.012257\n",
       "51.0    0.011780\n",
       "52.0    0.011349\n",
       "53.0    0.010922\n",
       "54.0    0.010609\n",
       "55.0    0.010248\n",
       "56.0    0.009831\n",
       "57.0    0.009415\n",
       "58.0    0.009045\n",
       "59.0    0.008731\n",
       "60.0    0.008467\n",
       "Name: Viscosity, dtype: float64"
      ]
     },
     "execution_count": 13,
     "metadata": {},
     "output_type": "execute_result"
    }
   ],
   "source": [
    "TC_fit = pd.read_sql_query(\"\"\"SELECT * FROM tc_fit_results\"\"\", con=connection)\n",
    "amp_sweeps = pd.read_sql_query(\"\"\"SELECT * FROM amp_sweep_info\"\"\", con=connection)\n",
    "solvents = pd.read_sql_query(\"SELECT * FROM solvent_infos\", con=connection)\n",
    "dilu = pd.read_sql_query(\"\"\"SELECT sample_prep_info.*, \n",
    "                                   dilution_series.dilution_serie\n",
    "                            FROM sample_prep_info\n",
    "                            LEFT JOIN dilution_series USING (sample_ID)\n",
    "                         \"\"\", con=connection)\n",
    "frq_sweeps = pd.read_sql(\"select * from frq_sweep_info\", con=connection)\n",
    "flow_curves = pd.read_sql(\"select * from flow_curves\", con=connection)\n",
    "sample=pd.read_sql(\"select * from tc_fit_results\", con=connection)\n",
    "\n",
    "df = pd.merge(left=sample, right=amp_sweeps, on=['sample_ID', 'temperature'], how='left', suffixes=('', '_DROP')).filter(regex='^(?!.*_DROP)')\n",
    "df = pd.merge(left=df, right=dilu, on=['sample_ID'], how='left', suffixes=('', '_DROP')).filter(regex='^(?!.*_DROP)')\n",
    "df = pd.merge(left=df, right=solvents, on=['solvent', 'temperature'], how='left', suffixes=('', '_DROP')).filter(regex='^(?!.*_DROP)')\n",
    "\n",
    "\n",
    "marco_visc = pd.read_csv('visc_pg_from_Marco.txt', sep='\\t')\n",
    "marco_visc['round_temperature'] = round(marco_visc.Temperature)\n",
    "marco_visc['roundtemperature'] = round(marco_visc.Temperature)\n",
    "\n",
    "visc_round = marco_visc.groupby('round_temperature')['Viscosity'].mean()\n",
    "\n",
    "PG = solvents.query(\"solvent == 'propylenglycol'\")\n",
    "PG = PG.sort_values('temperature')\n",
    "\n",
    "visc_round"
   ]
  },
  {
   "cell_type": "code",
   "execution_count": 14,
   "metadata": {},
   "outputs": [
    {
     "name": "stdout",
     "output_type": "stream",
     "text": [
      "10.0\n",
      "0.10205033333333334\n",
      "15.0\n",
      "0.07533733333333333\n",
      "20.0\n",
      "0.05479937142857143\n",
      "25.0\n",
      "0.04025268333333334\n",
      "30.0\n",
      "0.0305657\n",
      "35.0\n",
      "0.023787283333333336\n",
      "40.0\n",
      "0.01861688\n",
      "45.0\n",
      "0.0150264\n",
      "50.0\n",
      "0.01225682857142857\n"
     ]
    },
    {
     "data": {
      "image/png": "[encoded data removed]",
      "text/plain": [
       "<Figure size 244.8x244.8 with 1 Axes>"
      ]
     },
     "metadata": {
      "needs_background": "light"
     },
     "output_type": "display_data"
    }
   ],
   "source": [
    "fig, ax, _, marker = create_plot(two_sided=True)\n",
    "dict_colors = {10: '#3a4cbf', 15: '#6281e9', 20: '#629ae9',\n",
    "               25: '#b7cff7', 30:'#dbdbdb', 35: '#f3c3ab', \n",
    "               40: '#f39779', 45: '#db5e4a', 50: '#b30426'\n",
    "                }\n",
    "for T in np.linspace(10, 50, 9):\n",
    "    print(T)\n",
    "    print(visc_round[T])\n",
    "    ax.plot(T, visc_round[T], c='k', ls='--', mfc=dict_colors[T], marker=next(marker), ms=7)\n",
    "ax.set(xlim=(0, 60), ylim=(0, 0.12), \n",
    "       xticks=[0, 10, 20, 30, 40, 50, 60],\n",
    "       xlabel='$T~(^\\circ \\mathrm{C})$', ylabel='$\\eta_\\mathrm{solvent}~\\mathrm{(Pa \\cdot s)}$')\n",
    "fig.savefig('solvent_visc.svg', bbox_inches = 'tight')"
   ]
  },
  {
   "cell_type": "code",
   "execution_count": 15,
   "metadata": {},
   "outputs": [],
   "source": [
    "df_temp = flow_curves_concentration_sweep[flow_curves_concentration_sweep.w_percent == 1.9]"
   ]
  },
  {
   "cell_type": "code",
   "execution_count": 22,
   "metadata": {},
   "outputs": [
    {
     "data": {
      "image/png": "[encoded data removed]",
      "text/plain": [
       "<Figure size 360x244.8 with 1 Axes>"
      ]
     },
     "metadata": {
      "needs_background": "light"
     },
     "output_type": "display_data"
    }
   ],
   "source": [
    "res_fit_dict_HB={}\n",
    "AIC_list=[]\n",
    "fig, ax, color, amerker = create_plot()\n",
    "for c, dfh in df_temp.groupby('temperature', sort=False):\n",
    "    col=next(color)\n",
    "    ax.loglog(dfh.shear_rate, dfh.shear_stress, c=col, mfc=col, alpha=0.4, marker=next(marker), label=f'${c}$', linestyle='none')\n",
    "    res_fit_dict_HB[c]=rheofit.models.HB_model.fit(dfh.shear_stress,x=dfh.shear_rate, weights=1/dfh.shear_stress)\n",
    "    ax.plot(x, res_fit_dict_HB[c].eval(x=x), color=dict_colors[c], marker='', ls='-', lw=1.5)\n",
    "    AIC_list.append(res_fit_dict_HB[c].aic)\n",
    "res_table=pybroom.tidy(res_fit_dict_HB)\n",
    "HB_fit_table=res_table.pivot(index='key',columns='name',values='value')\n",
    "HB_fit_table['AIC']=AIC_list\n",
    "\n",
    "HB_fit_table_T=HB_fit_table.round(3)\n",
    "HB_fit_table_T\n",
    "\n",
    "fig.savefig('to_show_to_Marco.png', dpi=300)"
   ]
  },
  {
   "cell_type": "code",
   "execution_count": 29,
   "metadata": {},
   "outputs": [
    {
     "data": {
      "text/html": [
       "<div>\n",
       "<style scoped>\n",
       "    .dataframe tbody tr th:only-of-type {\n",
       "        vertical-align: middle;\n",
       "    }\n",
       "\n",
       "    .dataframe tbody tr th {\n",
       "        vertical-align: top;\n",
       "    }\n",
       "\n",
       "    .dataframe thead th {\n",
       "        text-align: right;\n",
       "    }\n",
       "</style>\n",
       "<table border=\"1\" class=\"dataframe\">\n",
       "  <thead>\n",
       "    <tr style=\"text-align: right;\">\n",
       "      <th>name</th>\n",
       "      <th>HB_K</th>\n",
       "      <th>HB_n</th>\n",
       "      <th>HB_ystress</th>\n",
       "      <th>AIC</th>\n",
       "    </tr>\n",
       "    <tr>\n",
       "      <th>key</th>\n",
       "      <th></th>\n",
       "      <th></th>\n",
       "      <th></th>\n",
       "      <th></th>\n",
       "    </tr>\n",
       "  </thead>\n",
       "  <tbody>\n",
       "    <tr>\n",
       "      <th>10</th>\n",
       "      <td>30.781904</td>\n",
       "      <td>0.562560</td>\n",
       "      <td>4.442862</td>\n",
       "      <td>-351.162347</td>\n",
       "    </tr>\n",
       "    <tr>\n",
       "      <th>15</th>\n",
       "      <td>23.862965</td>\n",
       "      <td>0.563701</td>\n",
       "      <td>4.218148</td>\n",
       "      <td>-389.509445</td>\n",
       "    </tr>\n",
       "    <tr>\n",
       "      <th>20</th>\n",
       "      <td>19.484667</td>\n",
       "      <td>0.560191</td>\n",
       "      <td>3.994302</td>\n",
       "      <td>-408.602547</td>\n",
       "    </tr>\n",
       "    <tr>\n",
       "      <th>25</th>\n",
       "      <td>16.408892</td>\n",
       "      <td>0.555124</td>\n",
       "      <td>3.756991</td>\n",
       "      <td>-396.188633</td>\n",
       "    </tr>\n",
       "    <tr>\n",
       "      <th>30</th>\n",
       "      <td>13.907073</td>\n",
       "      <td>0.551876</td>\n",
       "      <td>3.605706</td>\n",
       "      <td>-406.337040</td>\n",
       "    </tr>\n",
       "    <tr>\n",
       "      <th>35</th>\n",
       "      <td>12.047612</td>\n",
       "      <td>0.547914</td>\n",
       "      <td>3.443091</td>\n",
       "      <td>-404.499177</td>\n",
       "    </tr>\n",
       "    <tr>\n",
       "      <th>40</th>\n",
       "      <td>10.423345</td>\n",
       "      <td>0.546728</td>\n",
       "      <td>3.367742</td>\n",
       "      <td>-414.615204</td>\n",
       "    </tr>\n",
       "    <tr>\n",
       "      <th>45</th>\n",
       "      <td>9.351096</td>\n",
       "      <td>0.545122</td>\n",
       "      <td>3.498302</td>\n",
       "      <td>-396.850972</td>\n",
       "    </tr>\n",
       "    <tr>\n",
       "      <th>50</th>\n",
       "      <td>8.494875</td>\n",
       "      <td>0.539496</td>\n",
       "      <td>3.399367</td>\n",
       "      <td>-401.927052</td>\n",
       "    </tr>\n",
       "  </tbody>\n",
       "</table>\n",
       "</div>"
      ],
      "text/plain": [
       "name       HB_K      HB_n  HB_ystress         AIC\n",
       "key                                              \n",
       "10    30.781904  0.562560    4.442862 -351.162347\n",
       "15    23.862965  0.563701    4.218148 -389.509445\n",
       "20    19.484667  0.560191    3.994302 -408.602547\n",
       "25    16.408892  0.555124    3.756991 -396.188633\n",
       "30    13.907073  0.551876    3.605706 -406.337040\n",
       "35    12.047612  0.547914    3.443091 -404.499177\n",
       "40    10.423345  0.546728    3.367742 -414.615204\n",
       "45     9.351096  0.545122    3.498302 -396.850972\n",
       "50     8.494875  0.539496    3.399367 -401.927052"
      ]
     },
     "execution_count": 29,
     "metadata": {},
     "output_type": "execute_result"
    }
   ],
   "source": [
    "HB_fit_table"
   ]
  },
  {
   "cell_type": "code",
   "execution_count": 31,
   "metadata": {},
   "outputs": [
    {
     "data": {
      "image/png": "[encoded data removed]",
      "text/plain": [
       "<Figure size 360x244.8 with 1 Axes>"
      ]
     },
     "metadata": {
      "needs_background": "light"
     },
     "output_type": "display_data"
    }
   ],
   "source": [
    "res_fit_dict_TC={}\n",
    "fig, ax, color, amerker = create_plot()\n",
    "AIC_list=[]\n",
    "x = np.logspace(-4, 3, 30)\n",
    "for c, dfh in df_temp.groupby('temperature', sort=False):\n",
    "    col=next(color)\n",
    "    ax.loglog(dfh.shear_rate, dfh.shear_stress, c=dict_colors[c], mfc=dict_colors[c], alpha=0.4, marker=next(marker), label=f'${c}$', linestyle='none')\n",
    "    res_fit_dict_TC[c]=rheofit.models.TC_model.fit(dfh.shear_stress,x=dfh.shear_rate, weights=1/dfh.shear_stress)\n",
    "    ax.plot(x, res_fit_dict_TC[c].eval(x=x), color=dict_colors[c], marker='', ls='-', lw=1.5)\n",
    "    AIC_list.append(res_fit_dict_TC[c].aic)\n",
    "res_table=pybroom.tidy(res_fit_dict_TC)\n",
    "TC_fit_table=res_table.pivot(index='key',columns='name',values='value')\n",
    "TC_fit_table['AIC']=AIC_list\n",
    "TC_fit_table_T=TC_fit_table.round(3)\n",
    "TC_fit_table_T\n",
    "plt.show();"
   ]
  },
  {
   "cell_type": "code",
   "execution_count": 32,
   "metadata": {},
   "outputs": [
    {
     "data": {
      "text/html": [
       "<div>\n",
       "<style scoped>\n",
       "    .dataframe tbody tr th:only-of-type {\n",
       "        vertical-align: middle;\n",
       "    }\n",
       "\n",
       "    .dataframe tbody tr th {\n",
       "        vertical-align: top;\n",
       "    }\n",
       "\n",
       "    .dataframe thead th {\n",
       "        text-align: right;\n",
       "    }\n",
       "</style>\n",
       "<table border=\"1\" class=\"dataframe\">\n",
       "  <thead>\n",
       "    <tr style=\"text-align: right;\">\n",
       "      <th>name</th>\n",
       "      <th>TC_eta_bg</th>\n",
       "      <th>TC_gammadot_crit</th>\n",
       "      <th>TC_ystress</th>\n",
       "      <th>AIC</th>\n",
       "    </tr>\n",
       "    <tr>\n",
       "      <th>key</th>\n",
       "      <th></th>\n",
       "      <th></th>\n",
       "      <th></th>\n",
       "      <th></th>\n",
       "    </tr>\n",
       "  </thead>\n",
       "  <tbody>\n",
       "    <tr>\n",
       "      <th>10</th>\n",
       "      <td>0.961911</td>\n",
       "      <td>0.018488</td>\n",
       "      <td>4.075049</td>\n",
       "      <td>-433.856607</td>\n",
       "    </tr>\n",
       "    <tr>\n",
       "      <th>15</th>\n",
       "      <td>0.706046</td>\n",
       "      <td>0.027217</td>\n",
       "      <td>3.887585</td>\n",
       "      <td>-497.668771</td>\n",
       "    </tr>\n",
       "    <tr>\n",
       "      <th>20</th>\n",
       "      <td>0.518591</td>\n",
       "      <td>0.036651</td>\n",
       "      <td>3.716681</td>\n",
       "      <td>-524.093755</td>\n",
       "    </tr>\n",
       "    <tr>\n",
       "      <th>25</th>\n",
       "      <td>0.390594</td>\n",
       "      <td>0.046400</td>\n",
       "      <td>3.533892</td>\n",
       "      <td>-474.312927</td>\n",
       "    </tr>\n",
       "    <tr>\n",
       "      <th>30</th>\n",
       "      <td>0.301737</td>\n",
       "      <td>0.059814</td>\n",
       "      <td>3.416772</td>\n",
       "      <td>-487.271049</td>\n",
       "    </tr>\n",
       "    <tr>\n",
       "      <th>35</th>\n",
       "      <td>0.237345</td>\n",
       "      <td>0.073499</td>\n",
       "      <td>3.286520</td>\n",
       "      <td>-476.615178</td>\n",
       "    </tr>\n",
       "    <tr>\n",
       "      <th>40</th>\n",
       "      <td>0.194764</td>\n",
       "      <td>0.093889</td>\n",
       "      <td>3.227567</td>\n",
       "      <td>-491.465352</td>\n",
       "    </tr>\n",
       "    <tr>\n",
       "      <th>45</th>\n",
       "      <td>0.161388</td>\n",
       "      <td>0.124064</td>\n",
       "      <td>3.352500</td>\n",
       "      <td>-458.031940</td>\n",
       "    </tr>\n",
       "    <tr>\n",
       "      <th>50</th>\n",
       "      <td>0.131882</td>\n",
       "      <td>0.147617</td>\n",
       "      <td>3.297516</td>\n",
       "      <td>-452.674637</td>\n",
       "    </tr>\n",
       "  </tbody>\n",
       "</table>\n",
       "</div>"
      ],
      "text/plain": [
       "name  TC_eta_bg  TC_gammadot_crit  TC_ystress         AIC\n",
       "key                                                      \n",
       "10     0.961911          0.018488    4.075049 -433.856607\n",
       "15     0.706046          0.027217    3.887585 -497.668771\n",
       "20     0.518591          0.036651    3.716681 -524.093755\n",
       "25     0.390594          0.046400    3.533892 -474.312927\n",
       "30     0.301737          0.059814    3.416772 -487.271049\n",
       "35     0.237345          0.073499    3.286520 -476.615178\n",
       "40     0.194764          0.093889    3.227567 -491.465352\n",
       "45     0.161388          0.124064    3.352500 -458.031940\n",
       "50     0.131882          0.147617    3.297516 -452.674637"
      ]
     },
     "execution_count": 32,
     "metadata": {},
     "output_type": "execute_result"
    }
   ],
   "source": [
    "TC_fit_table"
   ]
  },
  {
   "cell_type": "code",
   "execution_count": 33,
   "metadata": {},
   "outputs": [
    {
     "data": {
      "image/png": "[encoded data removed]",
      "text/plain": [
       "<Figure size 244.8x244.8 with 1 Axes>"
      ]
     },
     "metadata": {
      "needs_background": "light"
     },
     "output_type": "display_data"
    }
   ],
   "source": [
    "fig, ax, color, marker = create_plot(two_sided=True)\n",
    "\n",
    "for T in TC_fit_table.index:\n",
    "    c = next(color)\n",
    "    ax.plot(T, TC_fit_table.loc[T, 'TC_ystress'], c=dict_colors[T], mfc=dict_colors[T], marker=next(marker), ms=5)\n",
    "    ax.plot(T, HB_fit_table.loc[T, 'HB_ystress'], c=dict_colors[T], mfc='None', marker=next(marker), ms=5)\n",
    "\n",
    "handles = [mpl.lines.Line2D([], [], c='k', label=r'$\\mathrm{HB}$'),\n",
    "           mpl.lines.Line2D([], [], c='k', mfc='k', label=r'$\\mathrm{TC}$')]\n",
    "\n",
    "\n",
    "ax.legend(handles=handles, loc='upper right')\n",
    "\n",
    "ax.set(xlim=(0, 60), ylim=(1, 100), \n",
    "       xticks=[0, 10, 20, 30, 40, 50, 60],\n",
    "       yscale='log',\n",
    "       xlabel='$T~(^\\circ \\mathrm{C})$',\n",
    "       ylabel='$\\sigma_\\mathrm{ys}~\\mathrm{(Pa)}$'\n",
    "      )\n",
    "\n",
    "fig.savefig('./figures_marco/concentration_sweep_parameters/ys_T.svg')"
   ]
  },
  {
   "cell_type": "code",
   "execution_count": 34,
   "metadata": {},
   "outputs": [
    {
     "data": {
      "image/png": "[encoded data removed]",
      "text/plain": [
       "<Figure size 244.8x244.8 with 1 Axes>"
      ]
     },
     "metadata": {
      "needs_background": "light"
     },
     "output_type": "display_data"
    }
   ],
   "source": [
    "fig, ax, color, marker = create_plot(two_sided=True)\n",
    "\n",
    "for T in TC_fit_table.index:\n",
    "    c = next(color)\n",
    "    ax.plot(T, TC_fit_table.loc[T, 'TC_gammadot_crit'], c=dict_colors[T], mfc=dict_colors[T], marker=next(marker), ms=5)\n",
    "    \n",
    "\n",
    "\n",
    "ax.set(xlim=(0, 60), ylim=(0.01, 0.2), \n",
    "       xticks=[0, 10, 20, 30, 40, 50, 60],\n",
    "       yscale='log',\n",
    "       xlabel='$T~(^\\circ \\mathrm{C})$',\n",
    "       ylabel='$\\dot{\\gamma}_\\mathrm{c}~\\mathrm{(s^{-1})}$'\n",
    "      )\n",
    "fig.savefig('./figures_marco/concentration_sweep_parameters/gammadotcrit_T.svg')"
   ]
  },
  {
   "cell_type": "code",
   "execution_count": 35,
   "metadata": {},
   "outputs": [
    {
     "data": {
      "image/png": "[encoded data removed]",
      "text/plain": [
       "<Figure size 244.8x244.8 with 1 Axes>"
      ]
     },
     "metadata": {
      "needs_background": "light"
     },
     "output_type": "display_data"
    }
   ],
   "source": [
    "fig, ax, color, marker = create_plot(two_sided=True)\n",
    "\n",
    "for T in TC_fit_table.index:\n",
    "    c = next(color)\n",
    "    ax.plot(T, HB_fit_table.loc[T, 'HB_K'], c=dict_colors[T], mfc='none', marker=next(marker), ms=5)\n",
    "    \n",
    "\n",
    "\n",
    "ax.set(xlim=(0, 60), ylim=(1, 100), \n",
    "       xticks=[0, 10, 20, 30, 40, 50, 60],\n",
    "       yscale='log',\n",
    "       xlabel='$T~(^\\circ \\mathrm{C})$',\n",
    "       ylabel='$K~\\mathrm{(s^{-n})}$'\n",
    "      )\n",
    "fig.savefig('./figures_marco/concentration_sweep_parameters/k_T.svg')"
   ]
  },
  {
   "cell_type": "code",
   "execution_count": 36,
   "metadata": {},
   "outputs": [
    {
     "data": {
      "image/png": "[encoded data removed]",
      "text/plain": [
       "<Figure size 244.8x244.8 with 1 Axes>"
      ]
     },
     "metadata": {
      "needs_background": "light"
     },
     "output_type": "display_data"
    }
   ],
   "source": [
    "fig, ax, color, marker = create_plot(two_sided=True)\n",
    "\n",
    "for T in TC_fit_table.index:\n",
    "    c = next(color)\n",
    "    ax.plot(T, HB_fit_table.loc[T, 'HB_n'], c=dict_colors[T], mfc='none', marker=next(marker), ms=5)\n",
    "    \n",
    "\n",
    "\n",
    "ax.set(xlim=(0, 60), ylim=(0.3, 0.7), \n",
    "       xticks=[0, 10, 20, 30, 40, 50, 60],\n",
    "       yscale='linear',\n",
    "       xlabel='$T~(^\\circ \\mathrm{C})$',\n",
    "       ylabel='$n~(-)$'\n",
    "      )\n",
    "fig.savefig('./figures_marco/concentration_sweep_parameters/n_T.svg')"
   ]
  },
  {
   "cell_type": "code",
   "execution_count": 37,
   "metadata": {},
   "outputs": [
    {
     "data": {
      "image/png": "[encoded data removed]",
      "text/plain": [
       "<Figure size 180x180 with 1 Axes>"
      ]
     },
     "metadata": {
      "needs_background": "light"
     },
     "output_type": "display_data"
    }
   ],
   "source": [
    "fig, ax, color, marker = create_plot(figsize=(2.5, 2.5))\n",
    "\n",
    "for T in TC_fit_table.index:\n",
    "    c = next(color)\n",
    "    ax.plot(T, TC_fit_table.loc[T, 'TC_eta_bg']* TC_fit_table.loc[T, 'TC_gammadot_crit'], c=dict_colors[T], mfc=dict_colors[T], marker=next(marker), ms=5)\n",
    "    \n",
    "\n",
    "\n",
    "ax.set(xlim=(0, 60), ylim=(1e-3, 0.1), \n",
    "       xticks=[0, 20, 40, 60],\n",
    "       yscale='log',\n",
    "      xlabel='$T~(^\\circ \\mathrm{C})$',\n",
    "       ylabel=r'$\\eta_\\mathrm{bg} \\times \\dot{\\gamma}_\\mathrm{c}~\\mathrm{(Pa)}$'\n",
    "      )\n",
    "fig.savefig('./figures_marco/concentration_sweep_parameters/ys_gammadotcrit_T.svg')"
   ]
  },
  {
   "cell_type": "code",
   "execution_count": 38,
   "metadata": {},
   "outputs": [
    {
     "data": {
      "image/png": "[encoded data removed]",
      "text/plain": [
       "<Figure size 244.8x244.8 with 1 Axes>"
      ]
     },
     "metadata": {
      "needs_background": "light"
     },
     "output_type": "display_data"
    }
   ],
   "source": [
    "fig, ax, color, marker = create_plot(two_sided=True)\n",
    "\n",
    "for T in TC_fit_table.index:\n",
    "    c = next(color)\n",
    "    ax.plot(T, TC_fit_table.loc[T, 'TC_eta_bg'], c=dict_colors[T], mfc=dict_colors[T], marker=next(marker), ms=5)\n",
    "\n",
    "ax.plot(visc_round.iloc[:42], ls='--', color='black', marker='', label='$\\eta_\\mathrm{solvent}$')\n",
    "    \n",
    "ax.legend(loc='lower left')\n",
    "\n",
    "ax.set(ylim=(0.001, 10), \n",
    "       yscale='log',\n",
    "       xlim=(0, 60), \n",
    "       xticks=[0, 10, 20, 30, 40, 50, 60],\n",
    "       xlabel='$T~(^\\circ C)$', \n",
    "       ylabel='$\\eta_\\mathrm{bg}~(\\mathrm{Pa \\cdot s})$'\n",
    "      )\n",
    "fig.savefig('./figures_marco/concentration_sweep_parameters/visc_T.svg')"
   ]
  },
  {
   "cell_type": "code",
   "execution_count": 41,
   "metadata": {},
   "outputs": [
    {
     "data": {
      "image/png": "[encoded data removed]",
      "text/plain": [
       "<Figure size 244.8x244.8 with 1 Axes>"
      ]
     },
     "metadata": {
      "needs_background": "light"
     },
     "output_type": "display_data"
    }
   ],
   "source": [
    "fig, ax, color, marker = create_plot(two_sided=True)\n",
    "\n",
    "for T in TC_fit_table.index:\n",
    "    c = next(color)\n",
    "    ax.plot(T, TC_fit_table.loc[T, 'TC_eta_bg'] / visc_round[T] , c=dict_colors[T], mfc=dict_colors[T], marker=next(marker), ms=5)\n",
    "\n",
    "#ax.plot(visc_round.iloc[:42], ls='--', color='black', marker='', label='$\\eta_\\mathrm{solvent}$')\n",
    "    \n",
    "#ax.legend(loc='lower left')\n",
    "\n",
    "ax.set(ylim=(0, 12), \n",
    "       #yscale='log',\n",
    "       xlim=(0, 60), \n",
    "       xticks=[0, 10, 20, 30, 40, 50, 60],\n",
    "       xlabel='$T~(^\\circ C)$', \n",
    "       ylabel='$\\eta_\\mathrm{bg} / \\eta_\\mathrm{solvent}~(-)$'\n",
    "      )\n",
    "fig.savefig('./figures_marco/concentration_sweep_parameters/ratio_visc_T.svg')"
   ]
  },
  {
   "cell_type": "code",
   "execution_count": null,
   "metadata": {},
   "outputs": [],
   "source": []
  },
  {
   "cell_type": "code",
   "execution_count": null,
   "metadata": {},
   "outputs": [],
   "source": []
  }
 ],
 "metadata": {
  "interpreter": {
   "hash": "63fd5069d213b44bf678585dea6b12cceca9941eaf7f819626cde1f2670de90d"
  },
  "kernelspec": {
   "display_name": "Python 3 (ipykernel)",
   "language": "python",
   "name": "python3"
  },
  "language_info": {
   "codemirror_mode": {
    "name": "ipython",
    "version": 3
   },
   "file_extension": ".py",
   "mimetype": "text/x-python",
   "name": "python",
   "nbconvert_exporter": "python",
   "pygments_lexer": "ipython3",
   "version": "3.9.7"
  }
 },
 "nbformat": 4,
 "nbformat_minor": 4
}
